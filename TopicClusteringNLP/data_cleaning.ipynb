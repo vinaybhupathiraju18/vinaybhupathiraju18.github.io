{
 "metadata": {
  "language_info": {
   "codemirror_mode": {
    "name": "ipython",
    "version": 3
   },
   "file_extension": ".py",
   "mimetype": "text/x-python",
   "name": "python",
   "nbconvert_exporter": "python",
   "pygments_lexer": "ipython3",
   "version": "3.7.7-final"
  },
  "orig_nbformat": 2,
  "kernelspec": {
   "name": "python_defaultSpec_1599578420131",
   "display_name": "Python 3.7.7 64-bit ('base': conda)"
  }
 },
 "nbformat": 4,
 "nbformat_minor": 2,
 "cells": [
  {
   "cell_type": "code",
   "execution_count": 1,
   "metadata": {},
   "outputs": [],
   "source": [
    "# check that 'contact' and 'resolution_code' do not contain \"SPAM SPAM\" or \"Spam\", respectively \n",
    "import pandas as pd \n",
    "import numpy as np\n",
    "import re"
   ]
  },
  {
   "cell_type": "code",
   "execution_count": 80,
   "metadata": {},
   "outputs": [
    {
     "output_type": "execute_result",
     "data": {
      "text/plain": "'This morning I noticed a change in the Goods - Multiple Shipment form that seems unusual.  For line type the goods form states \"Services\" and not \"Goods\".  Also it does not allow me to select a quantity nor a Unit of Measure (UOM).  Attaching a screen shot for reference.'"
     },
     "metadata": {},
     "execution_count": 80
    }
   ],
   "source": [
    "# INDIVIDUAL TESTING\n",
    "\n",
    "# \"SNOW July Data.csv\" is the July data pull from SNOW\n",
    "\n",
    "july_data = pd.read_csv(\"SNOW July Data.csv\", encoding = \"ISO-8859-1\")\n",
    "july_data = july_data.loc[(july_data['contact'] != 'SPAM SPAM') & (july_data['resolution_code'] != 'Spam')].reset_index(drop=True)\n",
    "\n",
    "# currently selects descriptions manually. This will later be transitioned to a for-loop or some function\n",
    "# look at july_data to see which index value you want to see tested\n",
    "july_samp = july_data.iloc[234]['description']\n",
    "\n",
    "# DESCRIPTION CLEANING\n",
    "regex_sol = re.sub(r'https?://\\S+', '', july_samp) # removes URL links\n",
    "regex_sol = re.sub(r\"\\S*@\\S*\\s?\", \"\", regex_sol) # removes email accounts\n",
    "regex_sol = regex_sol.replace(\"\\n\", \"\").replace(\"< >\",\"\").replace(\"\\r\", \"\") # removes newline and <> and \\r\n",
    "regex_sol = re.sub(r\"\\d+\", \"\", regex_sol) # removes integers \n",
    "regex_sol = re.sub(r\"([^\\s\\w]|_)+\", \" \", regex_sol) # removes non-alphanumeric characters, but maintains whitespace\n",
    "regex_sol = regex_sol.encode(\"ASCII\", \"replace\").decode(\"utf-8\").replace(\"?\", \" \") # removes all non-ASCII characters\n",
    "regex_sol = regex_sol.lower()\n",
    "# regex_sol\n",
    "\n",
    "# SUBJECT LINE CLEANING\n",
    "july_samp_2 = july_data.iloc[7]['case']\n",
    "regex_sol_2 = re.sub(r\"[?](CS)[0-9]+\", \"\", july_samp_2)\n",
    "regex_sol_2 = re.sub(r\"\\d+\", \"\", regex_sol_2)\n",
    "regex_sol_2 = re.sub(r\"([^\\s\\w]|_)+\", \" \", regex_sol_2)\n",
    "regex_sol_2 = regex_sol_2.lower()\n",
    "# regex_sol_2\n"
   ]
  },
  {
   "cell_type": "code",
   "execution_count": 91,
   "metadata": {},
   "outputs": [],
   "source": [
    "# FUNCTIONS APPLY CURRENT CLEANING STEPS INTO ENTIRE DATASET\n",
    "\n",
    "def subject_clean(subject_line):\n",
    "    regex_sol = re.sub(r'https?://\\S+', '', subject_line) # removes URL links\n",
    "    regex_sol = re.sub(r\"\\S*@\\S*\\s?\", \"\", regex_sol) # removes email accounts\n",
    "    regex_sol = regex_sol.replace(\"\\n\", \"\").replace(\"< >\",\"\").replace(\"\\r\", \"\") # removes newline and <> and \\r\n",
    "    regex_sol = re.sub(r\"\\d+\", \"\", regex_sol) # removes integers \n",
    "    regex_sol = re.sub(r\"([^\\s\\w]|_)+\", \" \", regex_sol) # removes non-alphanumeric characters, but maintains whitespace\n",
    "    regex_sol = regex_sol.encode(\"ASCII\", \"replace\").decode(\"utf-8\").replace(\"?\", \" \") # removes all non-ASCII characters\n",
    "    regex_sol = regex_sol.lower() # lower case string\n",
    "    return regex_sol\n",
    "\n",
    "def case_line_clean(case_line):\n",
    "    regex_sol_2 = re.sub(r\"[?](CS)[0-9]+\", \"\", case_line) # removes ending \"?CS###\"\n",
    "    regex_sol_2 = re.sub(r\"\\d+\", \"\", regex_sol_2) # removes integers\n",
    "    regex_sol_2 = re.sub(r\"([^\\s\\w]|_)+\", \" \", regex_sol_2) # removes non-characters, but maintains whitespace\n",
    "    regex_sol_2 = regex_sol_2.lower()\n",
    "    return regex_sol_2\n",
    "\n",
    "# call the dataset that pertains to you\n",
    "july_dataset = pd.read_csv(\"SNOW July Data.csv\", encoding = \"ISO-8859-1\")\n",
    "june_dataset = pd.read_csv(\"SNOW June Data.csv\", encoding = \"ISO-8859-1\")\n",
    "\n",
    "#SPAM case removal\n",
    "july_dataset = july_dataset.loc[(july_dataset['contact'] != 'SPAM SPAM') & (july_dataset['resolution_code'] != 'Spam')].reset_index(drop=True)\n",
    "june_dataset = june_dataset.loc[(june_dataset['contact'] != 'SPAM SPAM') & (june_dataset['resolution_code'] != 'Spam')].reset_index(drop=True)\n",
    "\n",
    "july_dataset['description'] = july_dataset['description'].apply(subject_clean)\n",
    "june_dataset['description'] = june_dataset['description'].apply(subject_clean)\n",
    "\n",
    "july_dataset['case'] = july_dataset['case'].apply(case_line_clean)\n",
    "june_dataset['case'] = june_dataset['case'].apply(case_line_clean)"
   ]
  },
  {
   "cell_type": "code",
   "execution_count": 93,
   "metadata": {},
   "outputs": [
    {
     "output_type": "execute_result",
     "data": {
      "text/plain": "                                                   case  \\\n0                  add a requisition line  for shopping   \n1      enter requisition line  missing from  more ta...   \n2      d  room number   e  projects   charge acct s ...   \n3                           urgent  change order errors   \n4                 urgent  sequencing services in oracle   \n...                                                 ...   \n1035  your requisition preferences are invalid  fix ...   \n1036   national instruments   tmd  document purchase...   \n1037   national instruments   tmd  document purchase...   \n1038   national instruments   tmd  document purchase...   \n1039                         po  incorrect payee set up   \n\n                          contact  \\\n0                    Janelle Fine   \n1                      Alex Clark   \n2                  Irina Kufareva   \n3                     Kathleen Au   \n4                     Kathleen Au   \n...                           ...   \n1035                    Nina Hill   \n1036                        ni ni   \n1037   NI  Customer Service Team    \n1038   NI  Customer Service Team    \n1039              Zachary Roberts   \n\n                                            description  \\\n0     hello  i need to make a purchase that would ha...   \n1      enter requisition line  for buying a specific...   \n2     this is report   following cs   d  when i edit...   \n3     hello lab members and i have been referring to...   \n4     hello we ve noticed that the sequencing servic...   \n...                                                 ...   \n1035  your requisition preferences are invalid  fix ...   \n1036  received from  ni      company name  universit...   \n1037  received from  ni      company name  universit...   \n1038  received from  ni      company name  universit...   \n1039  hi there a po was issued to the supplier  ez b...   \n\n                                      short_description    business_service  \\\n0                 \"Add a Requisition Line\" for shopping  Oracle Procurement   \n1     \"Enter Requisition Line\" missing from 'more ta...  Oracle Procurement   \n2     (d) room number, (e) projects & charge acct's,...  Oracle Procurement   \n3                         (Urgent!) Change Order Errors  Oracle Procurement   \n4               (Urgent!) Sequencing Services in Oracle  Oracle Procurement   \n...                                                 ...                 ...   \n1035  Your requisition preferences are invalid. Fix ...  Oracle Procurement   \n1036  [National Instruments] (TMD-2614068) Document ...  Oracle Procurement   \n1037  [National Instruments] (TMD-2614068) Document ...  Oracle Procurement   \n1038  [National Instruments] (TMD-2614068) Document ...  Oracle Procurement   \n1039                        [PO] Incorrect Payee Set-up   Supplier Invoices   \n\n               service_offering                      resolution_code  \n0                   How to Shop  Inconclusive - No Customer Response  \n1                   How to Shop  Inconclusive - No Customer Response  \n2                   How to Shop                                  NaN  \n3          Other Buying Inquiry                                  NaN  \n4                     Punchouts                                  NaN  \n...                         ...                                  ...  \n1035  Approvals on Requisitions                                  NaN  \n1036       Other Buying Inquiry  Inconclusive - No Customer Response  \n1037       Other Buying Inquiry  Inconclusive - No Customer Response  \n1038       Other Buying Inquiry  Inconclusive - No Customer Response  \n1039    Incorrect Bill/Invoices  Inconclusive - No Customer Response  \n\n[1040 rows x 7 columns]",
      "text/html": "<div>\n<style scoped>\n    .dataframe tbody tr th:only-of-type {\n        vertical-align: middle;\n    }\n\n    .dataframe tbody tr th {\n        vertical-align: top;\n    }\n\n    .dataframe thead th {\n        text-align: right;\n    }\n</style>\n<table border=\"1\" class=\"dataframe\">\n  <thead>\n    <tr style=\"text-align: right;\">\n      <th></th>\n      <th>case</th>\n      <th>contact</th>\n      <th>description</th>\n      <th>short_description</th>\n      <th>business_service</th>\n      <th>service_offering</th>\n      <th>resolution_code</th>\n    </tr>\n  </thead>\n  <tbody>\n    <tr>\n      <th>0</th>\n      <td>add a requisition line  for shopping</td>\n      <td>Janelle Fine</td>\n      <td>hello  i need to make a purchase that would ha...</td>\n      <td>\"Add a Requisition Line\" for shopping</td>\n      <td>Oracle Procurement</td>\n      <td>How to Shop</td>\n      <td>Inconclusive - No Customer Response</td>\n    </tr>\n    <tr>\n      <th>1</th>\n      <td>enter requisition line  missing from  more ta...</td>\n      <td>Alex Clark</td>\n      <td>enter requisition line  for buying a specific...</td>\n      <td>\"Enter Requisition Line\" missing from 'more ta...</td>\n      <td>Oracle Procurement</td>\n      <td>How to Shop</td>\n      <td>Inconclusive - No Customer Response</td>\n    </tr>\n    <tr>\n      <th>2</th>\n      <td>d  room number   e  projects   charge acct s ...</td>\n      <td>Irina Kufareva</td>\n      <td>this is report   following cs   d  when i edit...</td>\n      <td>(d) room number, (e) projects &amp; charge acct's,...</td>\n      <td>Oracle Procurement</td>\n      <td>How to Shop</td>\n      <td>NaN</td>\n    </tr>\n    <tr>\n      <th>3</th>\n      <td>urgent  change order errors</td>\n      <td>Kathleen Au</td>\n      <td>hello lab members and i have been referring to...</td>\n      <td>(Urgent!) Change Order Errors</td>\n      <td>Oracle Procurement</td>\n      <td>Other Buying Inquiry</td>\n      <td>NaN</td>\n    </tr>\n    <tr>\n      <th>4</th>\n      <td>urgent  sequencing services in oracle</td>\n      <td>Kathleen Au</td>\n      <td>hello we ve noticed that the sequencing servic...</td>\n      <td>(Urgent!) Sequencing Services in Oracle</td>\n      <td>Oracle Procurement</td>\n      <td>Punchouts</td>\n      <td>NaN</td>\n    </tr>\n    <tr>\n      <th>...</th>\n      <td>...</td>\n      <td>...</td>\n      <td>...</td>\n      <td>...</td>\n      <td>...</td>\n      <td>...</td>\n      <td>...</td>\n    </tr>\n    <tr>\n      <th>1035</th>\n      <td>your requisition preferences are invalid  fix ...</td>\n      <td>Nina Hill</td>\n      <td>your requisition preferences are invalid  fix ...</td>\n      <td>Your requisition preferences are invalid. Fix ...</td>\n      <td>Oracle Procurement</td>\n      <td>Approvals on Requisitions</td>\n      <td>NaN</td>\n    </tr>\n    <tr>\n      <th>1036</th>\n      <td>national instruments   tmd  document purchase...</td>\n      <td>ni ni</td>\n      <td>received from  ni      company name  universit...</td>\n      <td>[National Instruments] (TMD-2614068) Document ...</td>\n      <td>Oracle Procurement</td>\n      <td>Other Buying Inquiry</td>\n      <td>Inconclusive - No Customer Response</td>\n    </tr>\n    <tr>\n      <th>1037</th>\n      <td>national instruments   tmd  document purchase...</td>\n      <td>NI  Customer Service Team</td>\n      <td>received from  ni      company name  universit...</td>\n      <td>[National Instruments] (TMD-2614068) Document ...</td>\n      <td>Oracle Procurement</td>\n      <td>Other Buying Inquiry</td>\n      <td>Inconclusive - No Customer Response</td>\n    </tr>\n    <tr>\n      <th>1038</th>\n      <td>national instruments   tmd  document purchase...</td>\n      <td>NI  Customer Service Team</td>\n      <td>received from  ni      company name  universit...</td>\n      <td>[National Instruments] (TMD-2614068) Document ...</td>\n      <td>Oracle Procurement</td>\n      <td>Other Buying Inquiry</td>\n      <td>Inconclusive - No Customer Response</td>\n    </tr>\n    <tr>\n      <th>1039</th>\n      <td>po  incorrect payee set up</td>\n      <td>Zachary Roberts</td>\n      <td>hi there a po was issued to the supplier  ez b...</td>\n      <td>[PO] Incorrect Payee Set-up</td>\n      <td>Supplier Invoices</td>\n      <td>Incorrect Bill/Invoices</td>\n      <td>Inconclusive - No Customer Response</td>\n    </tr>\n  </tbody>\n</table>\n<p>1040 rows × 7 columns</p>\n</div>"
     },
     "metadata": {},
     "execution_count": 93
    }
   ],
   "source": [
    "july_dataset"
   ]
  },
  {
   "cell_type": "code",
   "execution_count": null,
   "metadata": {},
   "outputs": [],
   "source": []
  }
 ]
}